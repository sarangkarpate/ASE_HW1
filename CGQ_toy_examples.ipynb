{
 "cells": [
  {
   "cell_type": "code",
   "execution_count": 13,
   "metadata": {
    "collapsed": false,
    "deletable": true,
    "editable": true
   },
   "outputs": [],
   "source": [
    "#Import the tensorflow, numpy and networkx packages.\n",
    "#I've been thinking about it some more, and decided that using Tensorflow is probably the way to go,\n",
    "#partly because telling prospective employers you can use it will be more beneficial for you than with AutoGrad,\n",
    "#and partly because it's built in support for deep networks will make it easier to use in a \"graph query is part\n",
    "#of a deep learning process\" setting, which I think will ultimately get you a better grade in the course, and is really\n",
    "#the most useful usecase for the computational graph query. There's also a LOT more documentation for Tensforflow.\n",
    "%matplotlib inline\n",
    "import tensorflow as tf\n",
    "import numpy as np\n",
    "import networkx as nx\n",
    "import matplotlib.pyplot as plt\n",
    "import itertools as it"
   ]
  },
  {
   "cell_type": "code",
   "execution_count": 14,
   "metadata": {
    "collapsed": true,
    "deletable": true,
    "editable": true
   },
   "outputs": [],
   "source": [
    "#Define a tensorflow session. Tensorflow getting starting document at:\n",
    "#https://www.tensorflow.org/get_started/get_started\n",
    "sess = tf.Session()"
   ]
  },
  {
   "cell_type": "code",
   "execution_count": 15,
   "metadata": {
    "collapsed": true,
    "deletable": true,
    "editable": true
   },
   "outputs": [],
   "source": [
    "#Start building a networkx graph, which seems to handle tensorflow variables ok\n",
    "#So you can get away with using this for now, I think.\n",
    "#Create the networkx graph and add a few nodes with various properties.\n",
    "#Tutorial at https://networkx.readthedocs.io/en/stable/tutorial/tutorial.html\n",
    "G = nx.DiGraph()\n",
    "G.add_node(1,time='5pm')\n",
    "G.add_node(3,color='blue')\n",
    "X = tf.Variable(5.0)\n",
    "#Add a second with with the \"tfproperty\" set to X, where tfproperty is a \n",
    "#completely random name I chose.\n",
    "G.add_node(2, tfproperty = X)\n",
    "G.add_edge(1,2)\n",
    "G.add_edge(3,1)\n",
    "G.add_node(4, tfproperty = tf.constant(3.0))\n",
    "G.add_edge(1,4,color='green')"
   ]
  },
  {
   "cell_type": "code",
   "execution_count": 16,
   "metadata": {
    "collapsed": false,
    "deletable": true,
    "editable": true
   },
   "outputs": [
    {
     "data": {
      "image/png": "[encoded data removed]",
      "text/plain": [
       "<matplotlib.figure.Figure at 0x7fdbb410ced0>"
      ]
     },
     "metadata": {},
     "output_type": "display_data"
    }
   ],
   "source": [
    "#cost function is X^2, which we want to minimize, so we know we want zero.\n",
    "cost = (G.node[2]['tfproperty'])**2\n",
    "#Draw the directed network, where thin to thick indicates an edge from thin to thick (e.g. from 1 to 4)\n",
    "nx.draw_networkx(G,arrows=True)"
   ]
  },
  {
   "cell_type": "code",
   "execution_count": 17,
   "metadata": {
    "collapsed": false,
    "deletable": true,
    "editable": true
   },
   "outputs": [],
   "source": [
    "#Create optimizer using the Adagrad algorithm with learning_rate 1.0\n",
    "optimizer = tf.train.AdagradOptimizer(1.0)\n",
    "train = optimizer.minimize(cost)\n",
    "#initialise all tensorflow variables and constants.\n",
    "init = tf.global_variables_initializer()\n",
    "sess.run(init)"
   ]
  },
  {
   "cell_type": "code",
   "execution_count": 18,
   "metadata": {
    "collapsed": false,
    "deletable": true,
    "editable": true
   },
   "outputs": [
    {
     "name": "stdout",
     "output_type": "stream",
     "text": [
      "(0, 16.003998)\n",
      "(10, 1.1895392)\n",
      "(20, 0.12607139)\n",
      "(30, 0.01369768)\n",
      "(40, 0.0014921572)\n",
      "(50, 0.00016259452)\n",
      "(60, 1.7717839e-05)\n",
      "(70, 1.9307095e-06)\n",
      "(80, 2.1038909e-07)\n",
      "(90, 2.2926072e-08)\n"
     ]
    }
   ],
   "source": [
    "#Run train_steps iterations of the adagrad algorithm.\n",
    "train_steps=100\n",
    "cost_tracker = np.zeros([train_steps])\n",
    "for step in range(train_steps):\n",
    "    sess.run(train)\n",
    "    if step%10==0:\n",
    "        print(step, sess.run(cost))\n",
    "    cost_tracker[step] = sess.run(cost)"
   ]
  },
  {
   "cell_type": "code",
   "execution_count": 19,
   "metadata": {
    "collapsed": false,
    "deletable": true,
    "editable": true
   },
   "outputs": [
    {
     "name": "stdout",
     "output_type": "stream",
     "text": [
      "Optimal solution is X=5.58409e-05\n"
     ]
    },
    {
     "data": {
      "image/png": "[encoded data removed]",
      "text/plain": [
       "<matplotlib.figure.Figure at 0x7fdba5ae1610>"
      ]
     },
     "metadata": {},
     "output_type": "display_data"
    }
   ],
   "source": [
    "#We see here that this works\n",
    "plt.plot(cost_tracker)\n",
    "plt.title(\"Cost function defined directly\")\n",
    "print(\"Optimal solution is X=\"+str(sess.run(X)))"
   ]
  },
  {
   "cell_type": "code",
   "execution_count": 20,
   "metadata": {
    "collapsed": false,
    "deletable": true,
    "editable": true
   },
   "outputs": [
    {
     "name": "stdout",
     "output_type": "stream",
     "text": [
      "(0, 25.003998)\n",
      "(10, 10.189539)\n",
      "(20, 9.126071)\n",
      "(30, 9.0136976)\n",
      "(40, 9.0014925)\n",
      "(50, 9.0001621)\n",
      "(60, 9.0000181)\n",
      "(70, 9.0000019)\n",
      "(80, 9.0)\n",
      "(90, 9.0)\n",
      "Optimal solution is X=5.58409e-05\n"
     ]
    },
    {
     "data": {
      "image/png": "[encoded data removed]",
      "text/plain": [
       "<matplotlib.figure.Figure at 0x7fdba5bba450>"
      ]
     },
     "metadata": {},
     "output_type": "display_data"
    }
   ],
   "source": [
    "#Above we defined the cost function directly, but we actually want it to be the\n",
    "#result of a query. Instead, let us say that the objective function is:\n",
    "#Start at node 1, follow any outbound edges, and return the sum of the square of\n",
    "#'tfproperty' properties of any such nodes. Naturally, this is still X^2, plus\n",
    "#a constant of 3.0, since node 4 is fixed, and not variable.\n",
    "def run_example_query(G):\n",
    "    #G[i] gives a dictionary of edges outbound from each node, including props.\n",
    "    #Here we're only interested in the target vertices, so pickup using keys()\n",
    "    return_value = 0\n",
    "    #For each edge\n",
    "    for outbound_edge in G[1].keys():\n",
    "        #Add the tfproperty of that node\n",
    "        return_value = return_value+(G.node[outbound_edge]['tfproperty'])**2\n",
    "    return return_value\n",
    "cost2 = run_example_query(G)\n",
    "train2 = optimizer.minimize(cost2)\n",
    "#reinitialise everything\n",
    "sess.run(init)\n",
    "#Now optimize with this form\n",
    "train_steps=100\n",
    "cost_tracker2 = np.zeros([train_steps])\n",
    "for step in range(train_steps):\n",
    "    sess.run(train)\n",
    "    if step%10==0:\n",
    "        print(step, sess.run(cost2))\n",
    "    cost_tracker2[step] = sess.run(cost2)\n",
    "plt.plot(cost_tracker2)\n",
    "plt.title(\"Cost function defined in very simple query function\")\n",
    "print(\"Optimal solution is X=\"+str(sess.run(X)))"
   ]
  },
  {
   "cell_type": "code",
   "execution_count": 21,
   "metadata": {
    "collapsed": false,
    "deletable": true,
    "editable": true
   },
   "outputs": [],
   "source": [
    "#In the above, the query was defined very verbosely as an explicit function.\n",
    "#The equivalent Gremlin query might be g.V().hasLabel('startNode').\n",
    "#out().values('tfproperty').squared().sum()\n",
    "#Or something close to this (I am not a Gremlin expert). In actuality, something\n",
    "#closer to PGQL http://event.cwi.nl/grades/2016/07-VanRest.pdf is what we'd want\n",
    "#someone to input a query as, and we'd need to convert that request into the \n",
    "#appropriate computational graph. But that's something to potentially think \n",
    "#about after the other stuff has been done.\n",
    "\n",
    "#Anyway, things get a bit tricker when our queries depend on tensorflow values.\n",
    "#Because we can't actually evaluate any of the tensorflow values until runtime,\n",
    "\n",
    "#Let's add an extra edge condition in our query to demonstrate this. So it is: \n",
    "#\"Start at node 1, follow any outbound edges with tfcondition>0.5,\n",
    "#and return the sum of the square of 'tfproperty' properties of any such nodes.\"\n",
    "\n",
    "#Update the graph to have this edge condition between node 1 and node 2,\n",
    "#and node 1 and node 4.\n",
    "G.add_edge(1,2,tfcondition=tf.constant(0.6))\n",
    "G.add_edge(1,4,tfcondition=tf.constant(0.3))\n"
   ]
  },
  {
   "cell_type": "code",
   "execution_count": 22,
   "metadata": {
    "collapsed": false,
    "deletable": true,
    "editable": true
   },
   "outputs": [
    {
     "name": "stdout",
     "output_type": "stream",
     "text": [
      "{2: {'tfcondition': <tf.Tensor 'Const_10:0' shape=() dtype=float32>}, 4: {'color': 'green', 'tfcondition': <tf.Tensor 'Const_11:0' shape=() dtype=float32>}}\n"
     ]
    }
   ],
   "source": [
    "print G[1]"
   ]
  },
  {
   "cell_type": "code",
   "execution_count": 23,
   "metadata": {
    "collapsed": false,
    "deletable": true,
    "editable": true
   },
   "outputs": [
    {
     "name": "stdout",
     "output_type": "stream",
     "text": [
      "(0, 25.003998)\n",
      "(10, 10.189539)\n",
      "(20, 9.126071)\n",
      "(30, 9.0136976)\n",
      "(40, 9.0014925)\n",
      "(50, 9.0001621)\n",
      "(60, 9.0000181)\n",
      "(70, 9.0000019)\n",
      "(80, 9.0)\n",
      "(90, 9.0)\n",
      "Optimal solution is X=5.58409e-05\n"
     ]
    },
    {
     "data": {
      "image/png": "[encoded data removed]",
      "text/plain": [
       "<matplotlib.figure.Figure at 0x7fdba5feea10>"
      ]
     },
     "metadata": {},
     "output_type": "display_data"
    }
   ],
   "source": [
    "# Now we define a new function\n",
    "def run_example_query2(G):\n",
    "    #G[i] gives a dictionary of edges outbound from each node, including props.\n",
    "    #Here we're only interested in the target vertices, so pickup using keys()\n",
    "    #For each edge\n",
    "    return_value = tf.constant(0.0)\n",
    "    for outbound_edge in G[1].keys():\n",
    "        #If the edge satisfies the condition >0.5, add it, otherwise, don't\n",
    "        #We can't use a regular if statement, as below, uncomment it to see the problem.\n",
    "        #if (G[1][outbound_edge]['tfcondition']>0.5):\n",
    "            #return_value = return_value+(G.node[outbound_edge]['tfproperty'])**2\n",
    "        #Instead need to use tensorflow specific evaluators. E.g. this is tf.cond(condition,true return, false return)\n",
    "        def f1(): \n",
    "            return return_value+(G.node[outbound_edge]['tfproperty'])**2 \n",
    "        def f2(): \n",
    "            return return_value\n",
    "        return_value = tf.cond(G[1][outbound_edge]['tfcondition']>0.2,f1,f2)\n",
    "    return return_value\n",
    "cost3 = run_example_query2(G)\n",
    "train3 = optimizer.minimize(cost3)\n",
    "#reinitialise everything\n",
    "sess.run(init)\n",
    "#Now optimize with this form\n",
    "train_steps=100\n",
    "cost_tracker3 = np.zeros([train_steps])\n",
    "for step in range(train_steps):\n",
    "    sess.run(train)\n",
    "    if step%10==0:\n",
    "        print(step, sess.run(cost3))\n",
    "    cost_tracker2[step] = sess.run(cost3)\n",
    "plt.plot(cost_tracker2)\n",
    "plt.title(\"Cost function defined on more complicated query function\")\n",
    "print(\"Optimal solution is X=\"+str(sess.run(X)))"
   ]
  },
  {
   "cell_type": "code",
   "execution_count": 24,
   "metadata": {
    "collapsed": true,
    "deletable": true,
    "editable": true
   },
   "outputs": [],
   "source": [
    "# Try experimenting with the weight condition in line 17 (press escape then l in a cell to see line numbers),\n",
    "#particularly for the case when the condition is small enough to let node 4 be added to the query return.\n",
    "#Then there's a sudden jump in the cost function from 0 to 9. Now imagine that this weight condition is a variable,\n",
    "#and we can choose where to set it (then obviously we'd set it so node 4 isn't included). But doing this with gradients\n",
    "# means that the sudden jump when the edge condition to node 4 crosses 0.5 isn't visible, it's a discontinuity in the\n",
    "#function. You don't need to worry about this for now, but this is an aspect that I'll be working on."
   ]
  },
  {
   "cell_type": "code",
   "execution_count": 12,
   "metadata": {
    "collapsed": false,
    "deletable": true,
    "editable": true
   },
   "outputs": [],
   "source": [
    "#Anyway, I hope this helps you understand some aspects of how this is going to work a bit better. For our meeting next\n",
    "#week, I'd like you to do the following:\n",
    "\n",
    "#1: Go through this code carefully so you understand what's going on. E.g. how networks are constructed in networkx,\n",
    "#and how tensorflow is working here. The general tensorflow tutorials on the website I've linked to above might help.\n",
    "#In addition, try to get a grasp on the general concept of how a computational graph query could work. In the query \n",
    "#directly above for example, you can see that this query as defined as a function of tensorflow variables here, and an\n",
    "#input network G, will work for any network G that has tfcondition and tfproperty on edges and nodes that are neighbors\n",
    "#of node 1 (we can also use conditions to check if certain properties exist).\n",
    "\n",
    "#2: Build a more complex network, and a more complex query, based on the tools demonstrated above. In the examples\n",
    "#above, the nodes, edges and variables didn't have any real meaning, but it should demonstrate the idea of running a\n",
    "#\"query\", and optimizing the result of that query. A simple example might be something with a financial flavor,\n",
    "#if Professor Lin is after something like that. You could have a \"social network of companies\" (e.g. where edges) \n",
    "#indicate that companies work together, collaborate, or otherwise have some sort of transaction that ties them together\n",
    "#. This could (should for now) be an entirely ficticious network. Anyway, you can give each company an \"Expected fraud\"\n",
    "#property on their node. Then you could do something like \"How do I allocate my attention to these companies so that I\n",
    "#am observing where the most fraud is going on\". You might have a total \"attention budget\" of 1, and can allocate\n",
    "#frations of that budget to get a \"weighted observed fraud\" value(i.e. 0.5 to company 1, 0.25 to company 2, and \n",
    "#0.25 to company 3 would give weighted_observed_fraud=0.5*company_1_expected_fraud+0.25*company_2_expected_fraud+\n",
    "#0.25*company_3_expected_fraud. The idea is that you want to optimize the weights. The trivial answer here under\n",
    "#no other constraints is that you allocate all your weight to the company with the highest expected fraud. We'd\n",
    "#eventually want to add constraints (e.g. you have to invest a certain amount of weight in two particular companies),\n",
    "#but this will suffice for now, and will tell you when you have the right answer.\n",
    "\n",
    "#Note that tensflow variables at free by default, meaning they can be from negative infinity to infinity. So the fact\n",
    "#they are positive and add to 1 IS a set of constraints itself. Fortunately, there is any easy way to deal with this,\n",
    "#the softmax function https://en.wikipedia.org/wiki/Softmax_function which can be accessed in tensorflow as \n",
    "#tf.nn.softmax(vector_of_parameters_you're_trying_to_make_positive_and_add_to_one).\n",
    "\n",
    "#If you want to do more (though I won't expect you to do these things, given that the above might trip you up as\n",
    "#you're still becoming used to tensorflow), you can look into how deep networks are implemented in tensorflow to perform\n",
    "#deep learning, and brainstorm so examples where a query return on a graph might be part of a deep learning procedure."
   ]
  },
  {
   "cell_type": "code",
   "execution_count": null,
   "metadata": {
    "collapsed": true,
    "deletable": true,
    "editable": true
   },
   "outputs": [],
   "source": []
  }
 ],
 "metadata": {
  "kernelspec": {
   "display_name": "Python 2",
   "language": "python",
   "name": "python2"
  },
  "language_info": {
   "codemirror_mode": {
    "name": "ipython",
    "version": 2
   },
   "file_extension": ".py",
   "mimetype": "text/x-python",
   "name": "python",
   "nbconvert_exporter": "python",
   "pygments_lexer": "ipython2",
   "version": "2.7.12"
  }
 },
 "nbformat": 4,
 "nbformat_minor": 0
}
